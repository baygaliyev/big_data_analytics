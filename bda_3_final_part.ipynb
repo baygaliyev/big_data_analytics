{
 "cells": [
  {
   "cell_type": "code",
   "execution_count": 1,
   "metadata": {},
   "outputs": [],
   "source": [
    "%matplotlib inline\n",
    "import math\n",
    "import random\n",
    "import numpy as np\n",
    "import pandas as pd\n",
    "import scipy as sp\n",
    "import sklearn as sk\n",
    "import scipy.stats as stats\n",
    "import matplotlib.pyplot as plt\n",
    "from collections import defaultdict\n",
    "from scipy.stats.stats import pearsonr\n",
    "from pandas.plotting import scatter_matrix\n",
    "from sklearn import tree\n",
    "from sklearn import metrics\n",
    "from sklearn.tree import export_graphviz\n",
    "from sklearn.ensemble import RandomForestClassifier, ExtraTreesClassifier\n",
    "from sklearn.metrics import confusion_matrix\n",
    "from sklearn import neighbors\n",
    "from sklearn import linear_model\n",
    "from sklearn.naive_bayes import GaussianNB\n",
    "from sklearn import svm\n",
    "from sklearn.preprocessing import LabelEncoder\n",
    "#from collection import defaultdict\n",
    "from scipy.stats.stats import pearsonr\n",
    "import seaborn as sns\n",
    "from sklearn.model_selection import train_test_split\n",
    "from sklearn.linear_model import LogisticRegression\n",
    "from sklearn.dummy import DummyClassifier\n",
    "from sklearn.metrics import accuracy_score, f1_score, confusion_matrix, recall_score\n",
    "#from imblearn.over_sampling import SMOTE\n",
    "from sklearn.feature_selection import VarianceThreshold\n",
    "import pydotplus\n",
    "#import torch\n",
    "#import tslearn\n",
    "from sklearn import tree\n",
    "from IPython.display import Image\n",
    "from sklearn.tree import DecisionTreeClassifier\n",
    "from sklearn.model_selection import train_test_split\n",
    "from sklearn.datasets import make_classification\n",
    "from sklearn.ensemble import ExtraTreesClassifier\n",
    "from IPython.display import Image\n",
    "from sklearn.utils import resample\n",
    "from sklearn.metrics import confusion_matrix\n",
    "from sklearn.metrics import accuracy_score, f1_score, classification_report\n",
    "from sklearn.metrics import roc_curve, auc, roc_auc_score\n",
    "from sklearn.tree import DecisionTreeClassifier\n",
    "from sklearn.model_selection import train_test_split"
   ]
  },
  {
   "cell_type": "code",
   "execution_count": 2,
   "metadata": {},
   "outputs": [],
   "source": [
    "dl =pd.read_csv(\"C:\\\\Users\\\\Simone\\\\Desktop\\\\crash_prediction_dataset\\\\london_train_0.csv\", sep=',')\n",
    "s = \"C:\\\\Users\\\\Simone\\\\Desktop\\\\crash_prediction_dataset\\\\\"\n",
    "dl1 =pd.read_csv(s + \"london_train_1.csv\", sep=',')\n",
    "dl2 =pd.read_csv(s + \"london_train_2.csv\", sep=',')\n",
    "dl3 =pd.read_csv(s + \"london_train_3.csv\", sep=',')\n",
    "dl4 =pd.read_csv(s + \"london_train_4.csv\", sep=',')\n",
    "dl5 =pd.read_csv(s + \"london_train_5.csv\", sep=',')\n",
    "dl6 =pd.read_csv(s + \"london_train_6.csv\", sep=',')\n",
    "dr = pd.read_csv(s + \"rome_train_0.csv\", sep=',')\n",
    "dr1 = pd.read_csv(s + \"rome_train_1.csv\", sep=',')\n",
    "dr2 = pd.read_csv(s + \"rome_train_2.csv\", sep=',')\n",
    "dr3 = pd.read_csv(s + \"rome_train_3.csv\", sep=',')\n",
    "dr4 = pd.read_csv(s + \"rome_train_4.csv\", sep=',')\n",
    "dr5 = pd.read_csv(s + \"rome_train_5.csv\", sep=',')\n",
    "dr6 = pd.read_csv(s + \"rome_train_6.csv\", sep=',')\n",
    "dt = pd.read_csv(s + \"tuscany_train_0.csv\", sep=',')\n",
    "dt1 = pd.read_csv(s + \"tuscany_train_1.csv\", sep=',')\n",
    "dt2 = pd.read_csv(s + \"tuscany_train_2.csv\", sep=',')\n",
    "dt3 = pd.read_csv(s + \"tuscany_train_3.csv\", sep=',')\n",
    "dt4 = pd.read_csv(s + \"tuscany_train_4.csv\", sep=',')\n",
    "dt5 = pd.read_csv(s + \"tuscany_train_5.csv\", sep=',')\n",
    "dt6 = pd.read_csv(s + \"tuscany_train_6.csv\", sep=',')"
   ]
  },
  {
   "cell_type": "code",
   "execution_count": 3,
   "metadata": {},
   "outputs": [],
   "source": [
    "def solving(df):\n",
    "    '''dropp = [\n",
    "    'occ_avg_speed_B' ,'occ_avg_speed_C' ,'occ_avg_speed_Q' ,'occ_avg_traj_speed','occ_nbr_crash' ,'occ_nbr_evnt_A' ,\n",
    "    'occ_nbr_evnt_B' ,'occ_nbr_evnt_C' ,'occ_nbr_evnt_Q' ,'occ_nbr_evnt_start','occ_nbr_evnt_stop' ,'occ_nbr_traj_move' ,\n",
    "    'occ_nbr_traj_start' ,'occ_nbr_traj_stop' ,'ptot_events_type_B_loc0' ,\n",
    "    'ptot_events_type_C_loc0' ,'ptot_events_type_C_loc2'  ,'radius_of_gyration' ,\n",
    "    'occ_avg_avg_acc_A' , 'uid','jaccard','cosine','cosine_mov','ptot_events_type_Q_loc0','jaccard_mov'\n",
    "    'occ_avg_avg_acc_B' ,'occ_avg_avg_acc_C' ,'occ_avg_avg_acc_Q' ,'occ_avg_max_acc_A' ,\n",
    "    'occ_avg_max_acc_B' ,'occ_avg_max_acc_C' ,'occ_avg_max_acc_Q' ,'occ_avg_speed_A' ,\n",
    "    'reg_avg_avg_acc_A' ,'reg_avg_avg_acc_B' ,'reg_avg_avg_acc_C' ,'reg_avg_avg_acc_Q' ,'reg_avg_max_acc_A' ,'reg_avg_max_acc_B' ,\n",
    "    'reg_avg_max_acc_C' ,'reg_avg_max_acc_Q' ,'reg_avg_speed_A' ,'reg_avg_speed_B' ,'reg_avg_speed_C' ,'reg_avg_speed_Q' ,\n",
    "    'reg_avg_traj_speed' ,'reg_nbr_crash' ,'reg_nbr_evnt_A' ,'reg_nbr_evnt_B' ,'reg_nbr_evnt_C' ,'reg_nbr_evnt_Q' ,\n",
    "    'reg_nbr_evnt_start', 'reg_nbr_evnt_stop' ,'reg_nbr_traj_move' ,'reg_nbr_traj_start' ,'reg_nbr_traj_stop' ,\"ptot_events_type_B_loc2\"\n",
    "     ]\n",
    "    colsToDrop = ['uid','triangles', 'tot_events_type_A_loc0',\n",
    "                  'ptot_events_typestart_loc0','ptot_events_typestart_loc1','ptot_events_typestart_loc2','ptot_events_typestop_loc0',\n",
    "'ptot_events_typestop_loc1','ptot_events_typestop_loc2','tot_events_type_A_loc1', 'tot_events_type_A_loc2', \n",
    "'tot_events_type_B_loc0', 'tot_events_type_B_loc1', 'tot_events_type_B_loc2', 'tot_events_type_C_loc0', \n",
    "'tot_events_type_C_loc1', 'tot_events_type_C_loc2', 'tot_events_type_Q_loc0', \n",
    "'tot_events_type_Q_loc1', 'tot_events_type_Q_loc2', \n",
    "'tot_events_type_start_loc0','tot_events_type_start_loc1','tot_events_type_start_loc2', \n",
    "'tot_events_type_stop_loc0', 'tot_events_type_stop_loc1','tot_events_type_stop_loc2','tot_events_loc0',\n",
    "'tot_events_loc1' ,'tot_events_loc2' ,'tot_events_pA' ,'tot_events_pB' ,'tot_events_pC' ,'tot_events_pQ' ,'tot_events_ploc0', \n",
    "'tot_events_ploc1' ,'tot_events_ploc2' ,'tot_events_pstart' ,'tot_events_pstop' ,'occ_avg_avg_acc_A' ,\n",
    "'occ_avg_avg_acc_B' ,'occ_avg_avg_acc_C' ,'occ_avg_avg_acc_Q' ,'occ_avg_max_acc_A' ,\n",
    "'occ_avg_max_acc_B' ,'occ_avg_max_acc_C' ,'occ_avg_max_acc_Q' ,'occ_avg_speed_A' ,\n",
    "'occ_avg_speed_B' ,'occ_avg_speed_C' ,'occ_avg_speed_Q' ,'occ_avg_traj_speed','occ_nbr_crash' ,'occ_nbr_evnt_A' ,\n",
    "'occ_nbr_evnt_B' ,'occ_nbr_evnt_C' ,'occ_nbr_evnt_Q' ,'occ_nbr_evnt_start','occ_nbr_evnt_stop' ,'occ_nbr_traj_move' ,\n",
    "'occ_nbr_traj_start' ,'occ_nbr_traj_stop' ,'ptot_events_type_B_loc0' ,\n",
    "'ptot_events_type_C_loc0' ,'ptot_events_type_C_loc2'  ,'radius_of_gyration' ,\n",
    "'reg_avg_avg_acc_A' ,'reg_avg_avg_acc_B' ,'reg_avg_avg_acc_C' ,'reg_avg_avg_acc_Q' ,'reg_avg_max_acc_A' ,'reg_avg_max_acc_B' ,\n",
    "'reg_avg_max_acc_C' ,'reg_avg_max_acc_Q' ,'reg_avg_speed_A' ,'reg_avg_speed_B' ,'reg_avg_speed_C' ,'reg_avg_speed_Q' ,\n",
    "'reg_avg_traj_speed' ,'reg_nbr_crash' ,'reg_nbr_evnt_A' ,'reg_nbr_evnt_B' ,'reg_nbr_evnt_C' ,'reg_nbr_evnt_Q' ,\n",
    "'reg_nbr_evnt_start', 'reg_nbr_evnt_stop' ,'reg_nbr_traj_move' ,'reg_nbr_traj_start' ,'reg_nbr_traj_stop' ,'regular_radius_of_gyration' ,'rentropy' ,\n",
    "'std_angle' ,'std_angle_A', 'std_angle_B' ,'std_angle_C' ,'std_angle_Q' ,'std_angle_loc0', 'std_angle_loc1' ,'std_angle_loc2' ,\n",
    "'std_angle_start' ,'std_angle_stop' ,'std_avg_acc' ,'std_avg_acc_A', 'std_avg_acc_B' ,'std_avg_acc_C' ,\n",
    "'std_avg_acc_Q' ,'std_avg_acc_loc0', 'std_avg_acc_loc1' ,'std_avg_acc_loc2' ,'std_avg_acc_start' ,'std_avg_acc_stop' ,'std_duration' ,'std_duration_A', \n",
    "'std_duration_B' ,'std_duration_C' ,'std_duration_Q' ,'std_duration_loc0' ,'std_duration_loc1' ,'std_duration_loc2' ,\n",
    "'std_duration_start' ,'std_duration_stop' ,'std_events_per_day' ,'std_events_per_day_A', 'std_events_per_day_B' ,'std_events_per_day_C' ,\n",
    "'std_events_per_day_Q' ,'std_events_per_day_loc0' ,'std_events_per_day_loc1' ,'std_events_per_day_loc2' ,'std_events_per_day_start' ,\n",
    "'std_events_per_day_stop' ,'std_events_per_time' ,'std_events_per_time_A', 'std_events_per_time_B' ,\n",
    "'std_events_per_time_C' ,'std_events_per_time_Q' ,'std_events_per_time_loc0', 'std_events_per_time_loc1' ,\n",
    "'std_events_per_time_loc2' ,'std_events_per_time_start' ,'std_events_per_time_stop' ,'std_km' ,'std_km_per_day' ,'std_max_acc' ,\n",
    "'std_max_acc_A', 'std_max_acc_B' ,'std_max_acc_C' ,'std_max_acc_Q' ,'std_max_acc_loc0', 'std_max_acc_loc1' ,\n",
    "'std_max_acc_loc2' ,'std_max_acc_start' ,'std_max_acc_stop' ,'std_max_speed_per_day', 'std_min_speed_per_day' ,'std_mov_duration' ,\n",
    "'std_mov_length' ,'std_reg_mov_duration', 'std_speed' ,'std_traj_per_day', 'std_traveltime' ,'std_traveltime_per_day', \n",
    "'tot_duration' ,'tot_duration_A', 'tot_duration_B' ,'tot_duration_C' ,'tot_duration_Q' ,'tot_duration_loc0' ,\n",
    "'tot_duration_loc1', 'tot_duration_loc2' ,'tot_duration_pA' ,'tot_duration_pB' ,'tot_duration_pC' ,'tot_duration_pQ' ,\n",
    "'tot_duration_ploc0', 'tot_duration_ploc1' ,'tot_duration_ploc2' ,'tot_duration_pstart' ,'tot_duration_pstop' ,'tot_duration_start' ,\n",
    "'tot_duration_stop' ,'mov_entropy_A' ,'mov_entropy_B' ,'mov_entropy_C' ,'mov_entropy_Q' ,'mov_entropy_start' ,\n",
    "'mov_entropy_stop' ,'nbr_locations' ,'nbr_movements' ,'nbr_reg_locations', 'nbr_reg_movements' ,'l1_A' ,\n",
    "'l1_B' ,'l1_C' ,'l1_Q' ,'l1_bcentrality', 'l1_count' ,'l1_dcentrality', 'l1_indegree' ,'l1_outdegree' ,'l1_start' ,'l1_stop' ,\n",
    "'l1l2_A' ,'l1l2_B' ,'l1l2_C' ,'l1l2_Q' ,'l1l2_betweenness' ,'l1l2_count' ,'l1l2_start','l1l2_stop' ,'l1l3_A' ,'l1l3_B' ,'l1l3_C' ,\n",
    "'l1l3_Q' ,'l1l3_betweenness' ,'l1l3_count' ,'l1l3_start' ,'l1l3_stop' ,'l2_A' ,'l2_B' ,'l2_C' ,'l2_Q' ,'l2_bcentrality' ,\n",
    "'l2_count' ,'l2_dcentrality', 'l2_indegree' ,'l2_outdegree' ,'l2_start' ,'l2_stop' ,'l2l1_A' ,'l2l1_B' ,'l2l1_C' ,'l2l1_Q' ,\n",
    "'l2l1_betweenness', 'l2l1_count' ,'l2l1_start' ,'l2l1_stop' ,'l2l3_A','l2l3_B','l2l3_C','l2l3_Q' ,'l2l3_betweenness', \n",
    "'l2l3_count','l2l3_start','l2l3_stop','l3_A' ,'l3_B' ,'l3_C' ,'l3_Q' ,'l3_bcentrality','l3_count' ,'l3_dcentrality',\n",
    "'l3_indegree' ,'l3_outdegree','l3_start','l3_stop' ,'l3l1_A' ,'l3l1_B' ,'l3l1_C' ,'l3l1_Q' ,'l3l1_betweenness' ,'l3l1_count',\n",
    "'l3l1_start' ,'l3l1_stop' ,'l3l2_A','l3l2_B' ,'l3l2_C' ,'l3l2_Q' ,'l3l2_betweenness', 'l3l2_count' ,'l3l2_start' ,'l3l2_stop' ,\n",
    "'delta_locations','delta_movements' ,'delta_reg_locations','delta_rg','ptot_events_type_A_loc0', 'ptot_events_type_Q_loc0'\n",
    "                 'jaccard','cosine','cosine_mov','ptot_events_type_Q_loc0','jaccard_mov'] \n",
    "for i in df:\n",
    "        if i in dropp or i in colsToDrop:\n",
    "            df=df.drop([i], axis=1)\n",
    "        else:\n",
    "            num = df[i].isna().sum()\n",
    "            perc = (df[i].isna().sum())/len(df.index)*100\n",
    "            if perc>1:\n",
    "                df.drop(i, axis=1, inplace=True)\n",
    "    for i in df:\n",
    "        if df[i].isnull().sum()>0:\n",
    "            med = df[i].mean()\n",
    "            df[i].fillna(med, inplace = True)\n",
    "    return df'''\n",
    "    noremove = ['crash','tot_traj',  'avg_events_per_day_loc2', 'avg_angle_C', 'avg_min_speed_per_day', 'tot_events']\n",
    "\n",
    "    for i in df:\n",
    "        #if i in dropp or i in colsToDrop:\n",
    "        if i not in noremove:\n",
    "            df=df.drop([i], axis=1)\n",
    "        else:\n",
    "            num = df[i].isna().sum()\n",
    "            perc = (df[i].isna().sum())/len(df.index)*100\n",
    "            if perc>1:\n",
    "                df.drop(i, axis=1, inplace=True)\n",
    "    for i in df:\n",
    "        if df[i].isnull().sum()>0:\n",
    "            med = df[i].mean()\n",
    "            df[i].fillna(med, inplace = True)\n",
    "    return df\n",
    "\n",
    "    "
   ]
  },
  {
   "cell_type": "code",
   "execution_count": 4,
   "metadata": {},
   "outputs": [],
   "source": [
    "dl1=solving(dl1)\n",
    "dl2=solving(dl2)\n",
    "dl3=solving(dl3)\n",
    "dl4=solving(dl4)\n",
    "dl5=solving(dl5)\n",
    "dl6=solving(dl6)\n",
    "dr1=solving(dr1)\n",
    "dr2=solving(dr2)\n",
    "dr3=solving(dr3)\n",
    "dr4=solving(dr4)\n",
    "dr5=solving(dr5)\n",
    "dr6=solving(dr6)\n",
    "dt1=solving(dt1)\n",
    "dt2=solving(dt2)\n",
    "dt3=solving(dt3)\n",
    "dt4=solving(dt4)\n",
    "dt5=solving(dt5)\n",
    "dt6=solving(dt6)"
   ]
  },
  {
   "cell_type": "code",
   "execution_count": 5,
   "metadata": {},
   "outputs": [
    {
     "name": "stdout",
     "output_type": "stream",
     "text": [
      "la media degli elementi di Roma, Toscana e Londra é: 3706.14, 5834.14 e 5591.29 \n"
     ]
    }
   ],
   "source": [
    "totRoma=(len(dr)+len(dr1)+len(dr2)+len(dr3)+len(dr4)+len(dr5)+len(dr6))\n",
    "totToscana=(len(dt)+len(dt1)+len(dt2)+len(dt3)+len(dt4)+len(dt5)+len(dt6))\n",
    "totLondra=(len(dl)+len(dl1)+len(dl2)+len(dl3)+len(dl4)+len(dl5)+len(dl6))\n",
    "totCrashRoma=len(dr[dr[\"crash\"]==1])+len(dr1[dr1[\"crash\"]==1])+len(dr2[dr2[\"crash\"]==1])+len(dr3[dr3[\"crash\"]==1])+len(dr4[dr4[\"crash\"]==1])+len(dr5[dr5[\"crash\"]==1])+len(dr6[dr6[\"crash\"]==1])\n",
    "totCrashLondra=len(dl[dl[\"crash\"]==1])+len(dl1[dl1[\"crash\"]==1])+len(dl2[dl2[\"crash\"]==1])+len(dl3[dl3[\"crash\"]==1])+len(dl4[dl4[\"crash\"]==1])+len(dl5[dl5[\"crash\"]==1])+len(dl6[dl6[\"crash\"]==1])\n",
    "totCrashToscana=len(dt[dt[\"crash\"]==1])+len(dt1[dt1[\"crash\"]==1])+len(dt2[dt2[\"crash\"]==1])+len(dt3[dt3[\"crash\"]==1])+len(dt4[dt4[\"crash\"]==1])+len(dt5[dt5[\"crash\"]==1])+len(dt6[dt6[\"crash\"]==1])\n",
    "RomaNocrash=(totRoma-totCrashRoma)/7\n",
    "ToscanaNocrash=(totToscana-totCrashToscana)/7\n",
    "LondraNocrash=(totLondra-totCrashLondra)/7\n",
    "print(\"la media degli elementi di Roma, Toscana e Londra é: {0:.2f}, {1:.2f} e {2:.2f} \".format(RomaNocrash,ToscanaNocrash, LondraNocrash))"
   ]
  },
  {
   "cell_type": "markdown",
   "metadata": {},
   "source": [
    "#### Creation of a DF randomly chosen from the seven same place Datasets "
   ]
  },
  {
   "cell_type": "code",
   "execution_count": 6,
   "metadata": {},
   "outputs": [
    {
     "name": "stderr",
     "output_type": "stream",
     "text": [
      "C:\\Users\\Simone\\Anaconda3\\lib\\site-packages\\ipykernel_launcher.py:17: FutureWarning: Sorting because non-concatenation axis is not aligned. A future version\n",
      "of pandas will change to not sort by default.\n",
      "\n",
      "To accept the future behavior, pass 'sort=False'.\n",
      "\n",
      "To retain the current behavior and silence the warning, pass 'sort=True'.\n",
      "\n"
     ]
    }
   ],
   "source": [
    "df_0 = dt[dt['crash'] == 0]\n",
    "df_1 = dt1[dt1['crash'] == 0]\n",
    "df_2 = dt2[dt2['crash'] == 0]\n",
    "df_3 = dt3[dt3['crash'] == 0]\n",
    "df_4 = dt4[dt4['crash'] == 0]\n",
    "df_5 = dt5[dt5['crash'] == 0]\n",
    "df_6 = dt6[dt6['crash'] == 0]\n",
    "sizeTuscany=int(ToscanaNocrash/7)\n",
    "T=df_0.sample(n = sizeTuscany)\n",
    "T1=df_1.sample(n = sizeTuscany)\n",
    "T2=df_2.sample(n = sizeTuscany)\n",
    "T3=df_3.sample(n = sizeTuscany)\n",
    "T4=df_4.sample(n = sizeTuscany)\n",
    "T5=df_5.sample(n = sizeTuscany)\n",
    "T6=df_6.sample(n = sizeTuscany)\n",
    "frames=[T, T1, T2, T3, T4, T5, T6]\n",
    "TuscanyNocrash=pd.concat(frames)"
   ]
  },
  {
   "cell_type": "code",
   "execution_count": 7,
   "metadata": {
    "scrolled": true
   },
   "outputs": [
    {
     "name": "stderr",
     "output_type": "stream",
     "text": [
      "C:\\Users\\Simone\\Anaconda3\\lib\\site-packages\\ipykernel_launcher.py:9: FutureWarning: Sorting because non-concatenation axis is not aligned. A future version\n",
      "of pandas will change to not sort by default.\n",
      "\n",
      "To accept the future behavior, pass 'sort=False'.\n",
      "\n",
      "To retain the current behavior and silence the warning, pass 'sort=True'.\n",
      "\n",
      "  if __name__ == '__main__':\n"
     ]
    }
   ],
   "source": [
    "crash0=dt[dt[\"crash\"]==1]\n",
    "crash1=dt1[dt1[\"crash\"]==1]\n",
    "crash2=dt2[dt2[\"crash\"]==1]\n",
    "crash3=dt3[dt3[\"crash\"]==1]\n",
    "crash4=dt4[dt4[\"crash\"]==1]\n",
    "crash5=dt5[dt5[\"crash\"]==1]\n",
    "crash6=dt6[dt6[\"crash\"]==1]\n",
    "frames=[crash0,crash1,crash2,crash3,crash4,crash5,crash6]\n",
    "TuscanyCrash= pd.concat(frames)"
   ]
  },
  {
   "cell_type": "code",
   "execution_count": 8,
   "metadata": {},
   "outputs": [
    {
     "name": "stderr",
     "output_type": "stream",
     "text": [
      "C:\\Users\\Simone\\Anaconda3\\lib\\site-packages\\ipykernel_launcher.py:17: FutureWarning: Sorting because non-concatenation axis is not aligned. A future version\n",
      "of pandas will change to not sort by default.\n",
      "\n",
      "To accept the future behavior, pass 'sort=False'.\n",
      "\n",
      "To retain the current behavior and silence the warning, pass 'sort=True'.\n",
      "\n"
     ]
    }
   ],
   "source": [
    "df_0 = dr[dr['crash'] == 0]\n",
    "df_1 = dr1[dr1['crash'] == 0]\n",
    "df_2 = dr2[dr2['crash'] == 0]\n",
    "df_3 = dr3[dr3['crash'] == 0]\n",
    "df_4 = dr4[dr4['crash'] == 0]\n",
    "df_5 = dr5[dr5['crash'] == 0]\n",
    "df_6 = dr6[dr6['crash'] == 0]\n",
    "sizeRome=int(RomaNocrash/7)\n",
    "R=df_0.sample(n = sizeRome)\n",
    "R1=df_1.sample(n = sizeRome)\n",
    "R2=df_2.sample(n = sizeRome)\n",
    "R3=df_3.sample(n = sizeRome)\n",
    "R4=df_4.sample(n = sizeRome)\n",
    "R5=df_5.sample(n = sizeRome)\n",
    "R6=df_6.sample(n = sizeRome)\n",
    "frames=[R, R1, R2, R3, R4, R5, R6]\n",
    "RomeNocrash=pd.concat(frames)"
   ]
  },
  {
   "cell_type": "code",
   "execution_count": 9,
   "metadata": {},
   "outputs": [
    {
     "name": "stderr",
     "output_type": "stream",
     "text": [
      "C:\\Users\\Simone\\Anaconda3\\lib\\site-packages\\ipykernel_launcher.py:9: FutureWarning: Sorting because non-concatenation axis is not aligned. A future version\n",
      "of pandas will change to not sort by default.\n",
      "\n",
      "To accept the future behavior, pass 'sort=False'.\n",
      "\n",
      "To retain the current behavior and silence the warning, pass 'sort=True'.\n",
      "\n",
      "  if __name__ == '__main__':\n"
     ]
    }
   ],
   "source": [
    "crash0=dr[dr[\"crash\"]==1]\n",
    "crash1=dr1[dr1[\"crash\"]==1]\n",
    "crash2=dr2[dr2[\"crash\"]==1]\n",
    "crash3=dr3[dr3[\"crash\"]==1]\n",
    "crash4=dr4[dr4[\"crash\"]==1]\n",
    "crash5=dr5[dr5[\"crash\"]==1]\n",
    "crash6=dr6[dr6[\"crash\"]==1]\n",
    "frames=[crash0,crash1,crash2,crash3,crash4,crash5,crash6]\n",
    "RomeCrash= pd.concat(frames)"
   ]
  },
  {
   "cell_type": "code",
   "execution_count": 10,
   "metadata": {},
   "outputs": [
    {
     "name": "stderr",
     "output_type": "stream",
     "text": [
      "C:\\Users\\Simone\\Anaconda3\\lib\\site-packages\\ipykernel_launcher.py:17: FutureWarning: Sorting because non-concatenation axis is not aligned. A future version\n",
      "of pandas will change to not sort by default.\n",
      "\n",
      "To accept the future behavior, pass 'sort=False'.\n",
      "\n",
      "To retain the current behavior and silence the warning, pass 'sort=True'.\n",
      "\n"
     ]
    }
   ],
   "source": [
    "df_0 = dl[dl['crash'] == 0]\n",
    "df_1 = dl1[dl1['crash'] == 0]\n",
    "df_2 = dl2[dl2['crash'] == 0]\n",
    "df_3 = dl3[dl3['crash'] == 0]\n",
    "df_4 = dl4[dl4['crash'] == 0]\n",
    "df_5 = dl5[dl5['crash'] == 0]\n",
    "df_6 = dl6[dl6['crash'] == 0]\n",
    "sizeLondra=int(LondraNocrash/7)\n",
    "L=df_0.sample(n = sizeLondra)\n",
    "L1=df_1.sample(n = sizeLondra)\n",
    "L2=df_2.sample(n = sizeLondra)\n",
    "L3=df_3.sample(n = sizeLondra)\n",
    "L4=df_4.sample(n = sizeLondra)\n",
    "L5=df_5.sample(n = sizeLondra)\n",
    "L6=df_6.sample(n = sizeLondra)\n",
    "frames=[L, L1, L2, L3, L4, L5, L6]\n",
    "LondonNocrash=pd.concat(frames)"
   ]
  },
  {
   "cell_type": "code",
   "execution_count": 11,
   "metadata": {},
   "outputs": [
    {
     "name": "stderr",
     "output_type": "stream",
     "text": [
      "C:\\Users\\Simone\\Anaconda3\\lib\\site-packages\\ipykernel_launcher.py:9: FutureWarning: Sorting because non-concatenation axis is not aligned. A future version\n",
      "of pandas will change to not sort by default.\n",
      "\n",
      "To accept the future behavior, pass 'sort=False'.\n",
      "\n",
      "To retain the current behavior and silence the warning, pass 'sort=True'.\n",
      "\n",
      "  if __name__ == '__main__':\n"
     ]
    }
   ],
   "source": [
    "crash0=dl[dl[\"crash\"]==1]\n",
    "crash1=dl1[dl1[\"crash\"]==1]\n",
    "crash2=dl2[dl2[\"crash\"]==1]\n",
    "crash3=dl3[dl3[\"crash\"]==1]\n",
    "crash4=dl4[dl4[\"crash\"]==1]\n",
    "crash5=dl5[dl5[\"crash\"]==1]\n",
    "crash6=dl6[dl6[\"crash\"]==1]\n",
    "frames=[crash0,crash1,crash2,crash3,crash4,crash5,crash6]\n",
    "LondonCrash= pd.concat(frames)"
   ]
  },
  {
   "cell_type": "markdown",
   "metadata": {},
   "source": [
    "#### Final Dataset with all the crash and a randomly chosen part of no crashes"
   ]
  },
  {
   "cell_type": "code",
   "execution_count": 12,
   "metadata": {},
   "outputs": [],
   "source": [
    "frames1=[TuscanyCrash,TuscanyNocrash]\n",
    "frames2=[RomeCrash,RomeNocrash]\n",
    "frames3=[LondonCrash,LondonNocrash]\n",
    "DT=pd.concat(frames1) #TOSCANA\n",
    "DR=pd.concat(frames2) #ROMA\n",
    "DL=pd.concat(frames3) #LONDRA"
   ]
  },
  {
   "cell_type": "code",
   "execution_count": 13,
   "metadata": {},
   "outputs": [],
   "source": [
    "DT=solving(DT)\n",
    "DR=solving(DR)\n",
    "DL=solving(DL)"
   ]
  },
  {
   "cell_type": "code",
   "execution_count": 14,
   "metadata": {},
   "outputs": [],
   "source": [
    "def solvingMissing(df):\n",
    "    for i in df:\n",
    "        num = df[i].isna().sum()\n",
    "        perc = (df[i].isna().sum())/len(df.index)*100\n",
    "        if perc>1:\n",
    "            df.drop(i, axis=1, inplace=True)\n",
    "    for i in df:\n",
    "        if df[i].isnull().sum()>0:\n",
    "            med = df[i].mean()\n",
    "            df[i].fillna(med, inplace = True)\n",
    "    return df"
   ]
  },
  {
   "cell_type": "markdown",
   "metadata": {},
   "source": [
    "<a id='class'></a>\n",
    "## Classification "
   ]
  },
  {
   "cell_type": "code",
   "execution_count": 15,
   "metadata": {},
   "outputs": [],
   "source": [
    "#MODIFY DF0 ASSIGNING DL OR DR TO EXECUTE ALL THE TESTS WITH THE TRAINING OF LONDON AND ROME RESPECTIVELY\n",
    "df0=solving(DL)\n",
    "df1=solving(DR)\n",
    "df2=solving(DT)\n"
   ]
  },
  {
   "cell_type": "code",
   "execution_count": 16,
   "metadata": {},
   "outputs": [],
   "source": [
    "def valuate(y_pred,y_test):\n",
    "    tp=0\n",
    "    pred=0\n",
    "    act=0\n",
    "    rec=0\n",
    "    trueneg = 0\n",
    "    for i in range(len(y_pred)):\n",
    "        if y_test[i]==1:\n",
    "            act+=1\n",
    "        if y_pred[i]==1:\n",
    "            pred+=1\n",
    "            if y_test[i]==1:\n",
    "                tp+=1\n",
    "            else:\n",
    "                rec+=1\n",
    "        if y_pred[i]==0:\n",
    "            if y_test[i]==0:\n",
    "                trueneg+=1\n",
    "    if tp!=0 and rec!=0:\n",
    "        print(\"Correct: \", tp, \"--Actual Number of yes: \", act, \"--Predicted yes: \",\n",
    "              pred, \"--Number of predicted yes but actual no: \", rec, \"-- Number of correctly predicted NoCrash\", trueneg , \"-- Recall: \", tp/act, \"--Precision:\", tp/(tp+rec) )\n",
    "    else:\n",
    "        print(\"Correct: \", tp, \"--Actual Number of yes: \", act, \"--Predicted yes: \",\n",
    "              pred, \"--Number of predicted yes but actual no: \", rec)"
   ]
  },
  {
   "cell_type": "code",
   "execution_count": 17,
   "metadata": {},
   "outputs": [],
   "source": [
    "import pydotplus\n",
    "from sklearn import tree\n",
    "from IPython.display import Image"
   ]
  },
  {
   "cell_type": "markdown",
   "metadata": {},
   "source": [
    "# OVERALL DATASET OF 3 CITIES"
   ]
  },
  {
   "cell_type": "markdown",
   "metadata": {},
   "source": [
    "\n",
    "To make the model usable on all territories, I train it on a unified dataset **DF**"
   ]
  },
  {
   "cell_type": "code",
   "execution_count": 18,
   "metadata": {},
   "outputs": [],
   "source": [
    "frames=[df1,df2,df0] #,df0 is london, df1 is rome, df2 is toscana\n",
    "DF = pd.concat(frames)\n"
   ]
  },
  {
   "cell_type": "code",
   "execution_count": 19,
   "metadata": {},
   "outputs": [
    {
     "data": {
      "text/plain": [
       "0"
      ]
     },
     "execution_count": 19,
     "metadata": {},
     "output_type": "execute_result"
    }
   ],
   "source": [
    "DF= solving(DF)\n",
    "DF.isnull().sum().sum()"
   ]
  },
  {
   "cell_type": "code",
   "execution_count": 20,
   "metadata": {},
   "outputs": [
    {
     "data": {
      "image/png": "[encoded data removed]",
      "text/plain": [
       "<Figure size 432x288 with 1 Axes>"
      ]
     },
     "metadata": {
      "needs_background": "light"
     },
     "output_type": "display_data"
    }
   ],
   "source": [
    "from sklearn.cluster import AgglomerativeClustering\n",
    "from sklearn.preprocessing import StandardScaler, MinMaxScaler\n",
    "\n",
    "scaler = StandardScaler()\n",
    "scaler.fit(DF.values)\n",
    "\n",
    "X = scaler.fit_transform(DF.values)\n",
    "cluster = AgglomerativeClustering(n_clusters=4, affinity='euclidean', linkage='complete')  \n",
    "DF['clust'] = cluster.fit_predict(X)\n",
    "\n",
    "from scipy.cluster.hierarchy import dendrogram\n",
    "\n",
    "def plot_dendrogram(model, **kwargs):\n",
    "\n",
    "    # Children of hierarchical clustering\n",
    "    children = model.children_\n",
    "\n",
    "    # Distances between each pair of children\n",
    "    # Since we don't have this information, we can use a uniform one for plotting\n",
    "    distance = np.arange(children.shape[0])\n",
    "\n",
    "    # The number of observations contained in each cluster level\n",
    "    no_of_observations = np.arange(2, children.shape[0]+2)\n",
    "\n",
    "    # Create linkage matrix and then plot the dendrogram\n",
    "    linkage_matrix = np.column_stack([children, distance, no_of_observations]).astype(float)\n",
    "\n",
    "    # Plot the corresponding dendrogram\n",
    "    dendrogram(linkage_matrix, **kwargs)\n",
    "\n",
    "    \n",
    "cluster = cluster.fit(X)\n",
    "plt.title('Hierarchical Clustering Dendrogram')\n",
    "plot_dendrogram(cluster, labels=cluster.labels_)\n",
    "plt.show()"
   ]
  },
  {
   "cell_type": "code",
   "execution_count": 21,
   "metadata": {},
   "outputs": [
    {
     "data": {
      "image/png": "[encoded data removed]",
      "text/plain": [
       "<Figure size 1080x288 with 1 Axes>"
      ]
     },
     "metadata": {
      "needs_background": "light"
     },
     "output_type": "display_data"
    }
   ],
   "source": [
    "from scipy.stats import mode\n",
    "from scipy.spatial.distance import pdist\n",
    "from scipy.cluster.hierarchy import linkage, dendrogram\n",
    "\n",
    "X = scaler.fit_transform(DF.values)\n",
    "\n",
    "#Hierarchical euclidean\n",
    "plt.figure(figsize=(15, 4))\n",
    "data_dist = pdist(X, metric='euclidean')\n",
    "data_link = linkage(data_dist, method='complete', metric='euclidean')\n",
    "res = dendrogram(data_link, color_threshold=1.0, truncate_mode='lastp')"
   ]
  },
  {
   "cell_type": "code",
   "execution_count": 22,
   "metadata": {},
   "outputs": [
    {
     "data": {
      "text/plain": [
       "2    17378\n",
       "0      179\n",
       "3       15\n",
       "1        4\n",
       "Name: clust, dtype: int64"
      ]
     },
     "execution_count": 22,
     "metadata": {},
     "output_type": "execute_result"
    }
   ],
   "source": [
    "DF['clust'].value_counts()"
   ]
  },
  {
   "cell_type": "code",
   "execution_count": 23,
   "metadata": {},
   "outputs": [
    {
     "name": "stdout",
     "output_type": "stream",
     "text": [
      "c41: 2411 14967 0.16108772633126212\n"
     ]
    }
   ],
   "source": [
    "DF4 = DF[DF['clust']==2]\n",
    "#print(DF4)\n",
    "c41 = 0\n",
    "c40 = 0\n",
    "\n",
    "for i in DF4[\"crash\"]:\n",
    "\n",
    "    if i == 1:\n",
    "        c41 += 1 \n",
    "    else:\n",
    "        c40 += 1\n",
    "        \n",
    "                 \n",
    "print(\"c41:\", c41, c40, c41/c40)"
   ]
  },
  {
   "cell_type": "code",
   "execution_count": 24,
   "metadata": {},
   "outputs": [
    {
     "data": {
      "text/plain": [
       "0    15120\n",
       "1     2456\n",
       "Name: crash, dtype: int64"
      ]
     },
     "execution_count": 24,
     "metadata": {},
     "output_type": "execute_result"
    }
   ],
   "source": [
    "DF[\"crash\"].value_counts()"
   ]
  },
  {
   "cell_type": "code",
   "execution_count": 25,
   "metadata": {},
   "outputs": [],
   "source": [
    "Xcrash = scaler.fit_transform(DF[DF['crash']==1].values)\n",
    "ycrash = DF[DF['crash']==1]"
   ]
  },
  {
   "cell_type": "code",
   "execution_count": 26,
   "metadata": {},
   "outputs": [
    {
     "data": {
      "text/plain": [
       "DecisionTreeClassifier(class_weight=None, criterion='gini', max_depth=None,\n",
       "            max_features=None, max_leaf_nodes=None,\n",
       "            min_impurity_decrease=0.0, min_impurity_split=None,\n",
       "            min_samples_leaf=1, min_samples_split=2,\n",
       "            min_weight_fraction_leaf=0.0, presort=False, random_state=None,\n",
       "            splitter='best')"
      ]
     },
     "execution_count": 26,
     "metadata": {},
     "output_type": "execute_result"
    }
   ],
   "source": [
    "\n",
    "y = DF['crash']\n",
    "for i in y:\n",
    "    if i==0:\n",
    "        i=='No'\n",
    "    else:\n",
    "        i=='Yes'\n",
    "\n",
    "\n",
    "clf1 = DecisionTreeClassifier(criterion='gini', max_depth=None, \n",
    "                             min_samples_split=2, min_samples_leaf=1)\n",
    "\n",
    "#from sklearn.feature_selection import SelectFromModel\n",
    "#clf1 = SelectFromModel(clf1)\n",
    "clf1.fit(X, y)"
   ]
  },
  {
   "cell_type": "code",
   "execution_count": 41,
   "metadata": {},
   "outputs": [],
   "source": [
    "from sklearn.cluster import KMeans\n",
    "from sklearn.preprocessing import StandardScaler, MinMaxScaler"
   ]
  },
  {
   "cell_type": "code",
   "execution_count": 42,
   "metadata": {},
   "outputs": [],
   "source": [
    "attributes = [col for col in DF.columns if col != 'crash']\n",
    "#X = DF[['tot_traj',  'avg_events_per_day_loc2', 'avg_angle_C', 'avg_min_speed_per_day', 'tot_events']].values"
   ]
  },
  {
   "cell_type": "code",
   "execution_count": 43,
   "metadata": {},
   "outputs": [
    {
     "ename": "TypeError",
     "evalue": "fit_transform() missing 1 required positional argument: 'X'",
     "output_type": "error",
     "traceback": [
      "\u001b[1;31m---------------------------------------------------------------------------\u001b[0m",
      "\u001b[1;31mTypeError\u001b[0m                                 Traceback (most recent call last)",
      "\u001b[1;32m<ipython-input-43-881fa1c19055>\u001b[0m in \u001b[0;36m<module>\u001b[1;34m\u001b[0m\n\u001b[0;32m      1\u001b[0m \u001b[0mscaler\u001b[0m \u001b[1;33m=\u001b[0m \u001b[0mMinMaxScaler\u001b[0m\u001b[1;33m\u001b[0m\u001b[1;33m\u001b[0m\u001b[0m\n\u001b[0;32m      2\u001b[0m \u001b[1;33m\u001b[0m\u001b[0m\n\u001b[1;32m----> 3\u001b[1;33m \u001b[0mX\u001b[0m \u001b[1;33m=\u001b[0m \u001b[0mscaler\u001b[0m\u001b[1;33m.\u001b[0m\u001b[0mfit_transform\u001b[0m\u001b[1;33m(\u001b[0m\u001b[0mDF\u001b[0m\u001b[1;33m[\u001b[0m\u001b[1;33m[\u001b[0m\u001b[1;34m'tot_traj'\u001b[0m\u001b[1;33m,\u001b[0m  \u001b[1;34m'avg_events_per_day_loc2'\u001b[0m\u001b[1;33m,\u001b[0m \u001b[1;34m'avg_angle_C'\u001b[0m\u001b[1;33m,\u001b[0m \u001b[1;34m'avg_min_speed_per_day'\u001b[0m\u001b[1;33m,\u001b[0m \u001b[1;34m'tot_events'\u001b[0m\u001b[1;33m]\u001b[0m\u001b[1;33m]\u001b[0m\u001b[1;33m.\u001b[0m\u001b[0mvalues\u001b[0m\u001b[1;33m)\u001b[0m\u001b[1;33m\u001b[0m\u001b[1;33m\u001b[0m\u001b[0m\n\u001b[0m",
      "\u001b[1;31mTypeError\u001b[0m: fit_transform() missing 1 required positional argument: 'X'"
     ]
    }
   ],
   "source": [
    "scaler = MinMaxScaler\n",
    "\n",
    "X = scaler.fit_transform(DF[['tot_traj',  'avg_events_per_day_loc2', 'avg_angle_C', 'avg_min_speed_per_day', 'tot_events']].values)"
   ]
  },
  {
   "cell_type": "code",
   "execution_count": 29,
   "metadata": {},
   "outputs": [
    {
     "data": {
      "text/plain": [
       "KMeans(algorithm='auto', copy_x=True, init='k-means++', max_iter=800,\n",
       "    n_clusters=5, n_init=10, n_jobs=None, precompute_distances='auto',\n",
       "    random_state=None, tol=0.0001, verbose=0)"
      ]
     },
     "execution_count": 29,
     "metadata": {},
     "output_type": "execute_result"
    }
   ],
   "source": [
    "kmeans = KMeans(n_clusters=5, n_init=10, max_iter=800)\n",
    "kmeans.fit(X)"
   ]
  },
  {
   "cell_type": "code",
   "execution_count": 30,
   "metadata": {},
   "outputs": [
    {
     "data": {
      "text/plain": [
       "(array([0, 1, 2, 3, 4]), array([9078, 5877,  415,    4, 2202], dtype=int64))"
      ]
     },
     "execution_count": 30,
     "metadata": {},
     "output_type": "execute_result"
    }
   ],
   "source": [
    "np.unique(kmeans.labels_, return_counts=True)"
   ]
  },
  {
   "cell_type": "code",
   "execution_count": 31,
   "metadata": {},
   "outputs": [
    {
     "data": {
      "text/plain": [
       "{0: 9078, 1: 5877, 2: 415, 3: 4, 4: 2202}"
      ]
     },
     "execution_count": 31,
     "metadata": {},
     "output_type": "execute_result"
    }
   ],
   "source": [
    "hist, bins = np.histogram(kmeans.labels_, \n",
    "                          bins=range(0, len(set(kmeans.labels_)) + 1))\n",
    "dict(zip(bins, hist))"
   ]
  },
  {
   "cell_type": "code",
   "execution_count": 38,
   "metadata": {},
   "outputs": [],
   "source": [
    "DF[\"kmeans\"] = kmeans.labels_"
   ]
  },
  {
   "cell_type": "code",
   "execution_count": 39,
   "metadata": {},
   "outputs": [
    {
     "ename": "AttributeError",
     "evalue": "'numpy.ndarray' object has no attribute 'traspose'",
     "output_type": "error",
     "traceback": [
      "\u001b[1;31m---------------------------------------------------------------------------\u001b[0m",
      "\u001b[1;31mAttributeError\u001b[0m                            Traceback (most recent call last)",
      "\u001b[1;32m<ipython-input-39-b9dc0ba1821e>\u001b[0m in \u001b[0;36m<module>\u001b[1;34m\u001b[0m\n\u001b[1;32m----> 1\u001b[1;33m \u001b[0mX\u001b[0m \u001b[1;33m=\u001b[0m \u001b[0mX\u001b[0m\u001b[1;33m.\u001b[0m\u001b[0mtraspose\u001b[0m\u001b[1;33m(\u001b[0m\u001b[1;33m)\u001b[0m\u001b[1;33m\u001b[0m\u001b[1;33m\u001b[0m\u001b[0m\n\u001b[0m",
      "\u001b[1;31mAttributeError\u001b[0m: 'numpy.ndarray' object has no attribute 'traspose'"
     ]
    }
   ],
   "source": [
    "X = X.traspose()"
   ]
  },
  {
   "cell_type": "code",
   "execution_count": 32,
   "metadata": {},
   "outputs": [
    {
     "ename": "ValueError",
     "evalue": "operands could not be broadcast together with shapes (5,5) (7,) (5,5) ",
     "output_type": "error",
     "traceback": [
      "\u001b[1;31m---------------------------------------------------------------------------\u001b[0m",
      "\u001b[1;31mValueError\u001b[0m                                Traceback (most recent call last)",
      "\u001b[1;32m<ipython-input-32-7f1d222b2c07>\u001b[0m in \u001b[0;36m<module>\u001b[1;34m\u001b[0m\n\u001b[0;32m      1\u001b[0m \u001b[1;31m# Illustration of clustering itself\u001b[0m\u001b[1;33m\u001b[0m\u001b[1;33m\u001b[0m\u001b[1;33m\u001b[0m\u001b[0m\n\u001b[1;32m----> 2\u001b[1;33m \u001b[0mcenters\u001b[0m \u001b[1;33m=\u001b[0m \u001b[0mscaler\u001b[0m\u001b[1;33m.\u001b[0m\u001b[0minverse_transform\u001b[0m\u001b[1;33m(\u001b[0m\u001b[0mkmeans\u001b[0m\u001b[1;33m.\u001b[0m\u001b[0mcluster_centers_\u001b[0m\u001b[1;33m)\u001b[0m\u001b[1;33m\u001b[0m\u001b[1;33m\u001b[0m\u001b[0m\n\u001b[0m\u001b[0;32m      3\u001b[0m \u001b[1;33m\u001b[0m\u001b[0m\n\u001b[0;32m      4\u001b[0m \u001b[0mplt\u001b[0m\u001b[1;33m.\u001b[0m\u001b[0mscatter\u001b[0m\u001b[1;33m(\u001b[0m\u001b[0mX\u001b[0m\u001b[1;33m[\u001b[0m\u001b[1;36m1\u001b[0m\u001b[1;33m]\u001b[0m\u001b[1;33m,\u001b[0m \u001b[0mX\u001b[0m\u001b[1;33m[\u001b[0m\u001b[1;36m0\u001b[0m\u001b[1;33m]\u001b[0m\u001b[1;33m,\u001b[0m \u001b[0mc\u001b[0m\u001b[1;33m=\u001b[0m\u001b[0mkmeans\u001b[0m\u001b[1;33m.\u001b[0m\u001b[0mlabels_\u001b[0m\u001b[1;33m,\u001b[0m \u001b[0ms\u001b[0m\u001b[1;33m=\u001b[0m\u001b[1;36m20\u001b[0m\u001b[1;33m)\u001b[0m\u001b[1;33m\u001b[0m\u001b[1;33m\u001b[0m\u001b[0m\n\u001b[0;32m      5\u001b[0m \u001b[0mplt\u001b[0m\u001b[1;33m.\u001b[0m\u001b[0mscatter\u001b[0m\u001b[1;33m(\u001b[0m\u001b[0mkmeans\u001b[0m\u001b[1;33m.\u001b[0m\u001b[0mcluster_centers_\u001b[0m\u001b[1;33m[\u001b[0m\u001b[1;33m:\u001b[0m\u001b[1;33m,\u001b[0m \u001b[1;36m1\u001b[0m\u001b[1;33m]\u001b[0m\u001b[1;33m,\u001b[0m \u001b[0mkmeans\u001b[0m\u001b[1;33m.\u001b[0m\u001b[0mcluster_centers_\u001b[0m\u001b[1;33m[\u001b[0m\u001b[1;33m:\u001b[0m\u001b[1;33m,\u001b[0m \u001b[1;36m0\u001b[0m\u001b[1;33m]\u001b[0m\u001b[1;33m,\u001b[0m \u001b[0ms\u001b[0m\u001b[1;33m=\u001b[0m\u001b[1;36m200\u001b[0m\u001b[1;33m,\u001b[0m \u001b[0mmarker\u001b[0m\u001b[1;33m=\u001b[0m\u001b[1;34m'*'\u001b[0m\u001b[1;33m,\u001b[0m \u001b[0mc\u001b[0m\u001b[1;33m=\u001b[0m\u001b[1;34m'k'\u001b[0m\u001b[1;33m)\u001b[0m\u001b[1;33m\u001b[0m\u001b[1;33m\u001b[0m\u001b[0m\n",
      "\u001b[1;32m~\\Anaconda3\\lib\\site-packages\\sklearn\\preprocessing\\data.py\u001b[0m in \u001b[0;36minverse_transform\u001b[1;34m(self, X, copy)\u001b[0m\n\u001b[0;32m    821\u001b[0m                 \u001b[0mX\u001b[0m \u001b[1;33m=\u001b[0m \u001b[0mX\u001b[0m\u001b[1;33m.\u001b[0m\u001b[0mcopy\u001b[0m\u001b[1;33m(\u001b[0m\u001b[1;33m)\u001b[0m\u001b[1;33m\u001b[0m\u001b[1;33m\u001b[0m\u001b[0m\n\u001b[0;32m    822\u001b[0m             \u001b[1;32mif\u001b[0m \u001b[0mself\u001b[0m\u001b[1;33m.\u001b[0m\u001b[0mwith_std\u001b[0m\u001b[1;33m:\u001b[0m\u001b[1;33m\u001b[0m\u001b[1;33m\u001b[0m\u001b[0m\n\u001b[1;32m--> 823\u001b[1;33m                 \u001b[0mX\u001b[0m \u001b[1;33m*=\u001b[0m \u001b[0mself\u001b[0m\u001b[1;33m.\u001b[0m\u001b[0mscale_\u001b[0m\u001b[1;33m\u001b[0m\u001b[1;33m\u001b[0m\u001b[0m\n\u001b[0m\u001b[0;32m    824\u001b[0m             \u001b[1;32mif\u001b[0m \u001b[0mself\u001b[0m\u001b[1;33m.\u001b[0m\u001b[0mwith_mean\u001b[0m\u001b[1;33m:\u001b[0m\u001b[1;33m\u001b[0m\u001b[1;33m\u001b[0m\u001b[0m\n\u001b[0;32m    825\u001b[0m                 \u001b[0mX\u001b[0m \u001b[1;33m+=\u001b[0m \u001b[0mself\u001b[0m\u001b[1;33m.\u001b[0m\u001b[0mmean_\u001b[0m\u001b[1;33m\u001b[0m\u001b[1;33m\u001b[0m\u001b[0m\n",
      "\u001b[1;31mValueError\u001b[0m: operands could not be broadcast together with shapes (5,5) (7,) (5,5) "
     ]
    }
   ],
   "source": [
    "# Illustration of clustering itself\n",
    "centers = scaler.inverse_transform(kmeans.cluster_centers_)\n",
    "\n",
    "plt.scatter(X[1], X[0], c=kmeans.labels_, s=20)\n",
    "plt.scatter(kmeans.cluster_centers_[:, 1], kmeans.cluster_centers_[:, 0], s=200, marker='*', c='k')\n",
    "plt.tick_params(axis='both', which='major', labelsize=22)\n",
    "plt.show()\n",
    "X=X.transpose()"
   ]
  },
  {
   "cell_type": "code",
   "execution_count": 33,
   "metadata": {},
   "outputs": [],
   "source": [
    "DFx = DF[['tot_traj',  'avg_events_per_day_loc2', 'avg_angle_C', 'avg_min_speed_per_day', 'tot_events']]"
   ]
  },
  {
   "cell_type": "code",
   "execution_count": 34,
   "metadata": {},
   "outputs": [
    {
     "data": {
      "image/png": "[encoded data removed]",
      "text/plain": [
       "<Figure size 2160x288 with 1 Axes>"
      ]
     },
     "metadata": {
      "needs_background": "light"
     },
     "output_type": "display_data"
    }
   ],
   "source": [
    "# Illustration of centroids\n",
    "plt.figure(figsize=(30, 4))\n",
    "for i in range(0, len(kmeans.cluster_centers_)):\n",
    "    plt.plot(kmeans.cluster_centers_[i], marker='o', label='Cluster %s' % i)\n",
    "plt.tick_params(axis='both', which='major', labelsize=22)\n",
    "plt.xticks(range(0, len(DFx.columns)), DFx.columns, fontsize=18)\n",
    "plt.legend(fontsize=20)\n",
    "plt.show()"
   ]
  },
  {
   "cell_type": "code",
   "execution_count": 36,
   "metadata": {},
   "outputs": [
    {
     "data": {
      "text/plain": [
       "array([[ 2.46259927e+02,  4.42540501e+00,  3.60794384e+00,\n",
       "         1.29780535e+01,  1.56517039e+03],\n",
       "       [ 3.51720906e+02,  9.43403973e+00,  2.22247518e+00,\n",
       "         1.27288414e+01,  3.43426580e+03],\n",
       "       [ 5.20103614e+02,  3.33926370e+01,  4.84149738e+00,\n",
       "         1.11412067e+01,  1.18277518e+04],\n",
       "       [ 4.96000000e+02,  1.22100932e+01, -1.92519097e-01,\n",
       "         7.12431066e+00,  4.53997500e+04],\n",
       "       [ 4.29680929e+02,  1.70113162e+01,  6.66511027e+00,\n",
       "         1.22544225e+01,  6.20735366e+03]])"
      ]
     },
     "execution_count": 36,
     "metadata": {},
     "output_type": "execute_result"
    }
   ],
   "source": [
    "kmeans.cluster_centers_"
   ]
  },
  {
   "cell_type": "code",
   "execution_count": 37,
   "metadata": {},
   "outputs": [
    {
     "ename": "ValueError",
     "evalue": "operands could not be broadcast together with shapes (5,5) (7,) (5,5) ",
     "output_type": "error",
     "traceback": [
      "\u001b[1;31m---------------------------------------------------------------------------\u001b[0m",
      "\u001b[1;31mValueError\u001b[0m                                Traceback (most recent call last)",
      "\u001b[1;32m<ipython-input-37-0ed39c8a5dbe>\u001b[0m in \u001b[0;36m<module>\u001b[1;34m\u001b[0m\n\u001b[1;32m----> 1\u001b[1;33m \u001b[0mprint\u001b[0m\u001b[1;33m(\u001b[0m\u001b[0mscaler\u001b[0m\u001b[1;33m.\u001b[0m\u001b[0minverse_transform\u001b[0m\u001b[1;33m(\u001b[0m\u001b[0mkmeans\u001b[0m\u001b[1;33m.\u001b[0m\u001b[0mcluster_centers_\u001b[0m\u001b[1;33m)\u001b[0m\u001b[1;33m)\u001b[0m\u001b[1;33m\u001b[0m\u001b[1;33m\u001b[0m\u001b[0m\n\u001b[0m",
      "\u001b[1;32m~\\Anaconda3\\lib\\site-packages\\sklearn\\preprocessing\\data.py\u001b[0m in \u001b[0;36minverse_transform\u001b[1;34m(self, X, copy)\u001b[0m\n\u001b[0;32m    821\u001b[0m                 \u001b[0mX\u001b[0m \u001b[1;33m=\u001b[0m \u001b[0mX\u001b[0m\u001b[1;33m.\u001b[0m\u001b[0mcopy\u001b[0m\u001b[1;33m(\u001b[0m\u001b[1;33m)\u001b[0m\u001b[1;33m\u001b[0m\u001b[1;33m\u001b[0m\u001b[0m\n\u001b[0;32m    822\u001b[0m             \u001b[1;32mif\u001b[0m \u001b[0mself\u001b[0m\u001b[1;33m.\u001b[0m\u001b[0mwith_std\u001b[0m\u001b[1;33m:\u001b[0m\u001b[1;33m\u001b[0m\u001b[1;33m\u001b[0m\u001b[0m\n\u001b[1;32m--> 823\u001b[1;33m                 \u001b[0mX\u001b[0m \u001b[1;33m*=\u001b[0m \u001b[0mself\u001b[0m\u001b[1;33m.\u001b[0m\u001b[0mscale_\u001b[0m\u001b[1;33m\u001b[0m\u001b[1;33m\u001b[0m\u001b[0m\n\u001b[0m\u001b[0;32m    824\u001b[0m             \u001b[1;32mif\u001b[0m \u001b[0mself\u001b[0m\u001b[1;33m.\u001b[0m\u001b[0mwith_mean\u001b[0m\u001b[1;33m:\u001b[0m\u001b[1;33m\u001b[0m\u001b[1;33m\u001b[0m\u001b[0m\n\u001b[0;32m    825\u001b[0m                 \u001b[0mX\u001b[0m \u001b[1;33m+=\u001b[0m \u001b[0mself\u001b[0m\u001b[1;33m.\u001b[0m\u001b[0mmean_\u001b[0m\u001b[1;33m\u001b[0m\u001b[1;33m\u001b[0m\u001b[0m\n",
      "\u001b[1;31mValueError\u001b[0m: operands could not be broadcast together with shapes (5,5) (7,) (5,5) "
     ]
    }
   ],
   "source": [
    "print(scaler.inverse_transform(kmeans.cluster_centers_))"
   ]
  },
  {
   "cell_type": "code",
   "execution_count": null,
   "metadata": {},
   "outputs": [],
   "source": [
    "listaImp = []\n",
    "for col, imp in zip(attributes, clf1.feature_importances_):\n",
    "    if imp>0:\n",
    "        print(col, imp)\n",
    "        listaImp.append(col)\n",
    "print (len(listaImp))"
   ]
  },
  {
   "cell_type": "code",
   "execution_count": null,
   "metadata": {},
   "outputs": [],
   "source": []
  },
  {
   "cell_type": "code",
   "execution_count": null,
   "metadata": {},
   "outputs": [],
   "source": [
    "dot_data = tree.export_graphviz(clf1, out_file=None,  max_depth=10,\n",
    "                                feature_names=attributes, \n",
    "                                class_names=['Yes' if x == 1 else 'No' for x in clf1.classes_],  \n",
    "                                filled=True, rounded=True,  \n",
    "                                special_characters=True)  \n",
    "graph = pydotplus.graph_from_dot_data(dot_data)  \n",
    "Image(graph.create_png())"
   ]
  },
  {
   "cell_type": "code",
   "execution_count": null,
   "metadata": {},
   "outputs": [],
   "source": [
    "from sklearn.model_selection import cross_val_score\n",
    "#clf = svm.SVC(kernel='linear', C=1)\n",
    "scores = cross_val_score(clf1, X, y, cv=8)\n",
    "scores  "
   ]
  },
  {
   "cell_type": "code",
   "execution_count": null,
   "metadata": {},
   "outputs": [],
   "source": []
  },
  {
   "cell_type": "code",
   "execution_count": null,
   "metadata": {},
   "outputs": [],
   "source": []
  },
  {
   "cell_type": "code",
   "execution_count": null,
   "metadata": {},
   "outputs": [],
   "source": [
    "dt=solving(dt)"
   ]
  },
  {
   "cell_type": "markdown",
   "metadata": {},
   "source": [
    "# Testing on test sets"
   ]
  },
  {
   "cell_type": "code",
   "execution_count": null,
   "metadata": {},
   "outputs": [],
   "source": [
    "t = pd.read_csv(r'''F:\\\\Study\\\\2nd\\\\BigDataAn\\\\crash_prediction_dataset\\\\london_test_4.csv''')\n",
    "t=solvingMissing(t)\n",
    "tc = t['crash']\n",
    "rem = ['crash'] # 'crash'\n",
    "for i in t: \n",
    "    if i not in df0:\n",
    "        rem.append(i)\n",
    "t=t.drop(rem, axis=1)\n",
    "\n",
    "scaler = StandardScaler()\n",
    "scaler.fit(t.values)\n",
    "X = scaler.fit_transform(t.values)\n",
    "cluster = AgglomerativeClustering(n_clusters=8, affinity='euclidean', linkage='complete')  \n",
    "t['clust'] = cluster.fit_predict(X)\n",
    "\n",
    "y_test=tc\n",
    "y_pred = clf1.predict(t)\n",
    "print('Accuracy %s' % accuracy_score(y_test, y_pred))\n",
    "print('F1-score %s' % f1_score(y_test, y_pred, average=None))\n",
    "print(classification_report(y_test, y_pred))\n",
    "confusion_matrix(y_test, y_pred)\n",
    "valuate(y_pred, y_test)\n",
    "\n",
    "#with jaccard, cosine e cosine_mov: 43"
   ]
  },
  {
   "cell_type": "code",
   "execution_count": null,
   "metadata": {},
   "outputs": [],
   "source": [
    "'''with pd.option_context('display.max_rows', None, 'display.max_columns', None):  # more options can be specified also\n",
    "    print(t.loc[[113]]) \n",
    "'''\n",
    "    "
   ]
  },
  {
   "cell_type": "code",
   "execution_count": null,
   "metadata": {},
   "outputs": [],
   "source": [
    "t = pd.read_csv(r'''F:\\\\Study\\\\2nd\\\\BigDataAn\\\\crash_prediction_dataset\\\\tuscany_test_4.csv''')\n",
    "t=solvingMissing(t)\n",
    "tc = t['crash']\n",
    "rem = ['crash'] # 'crash'\n",
    "for i in t: \n",
    "    if i not in df0:\n",
    "        rem.append(i)\n",
    "t=t.drop(rem, axis=1)\n",
    "\n",
    "scaler = StandardScaler()\n",
    "scaler.fit(t.values)\n",
    "X = scaler.fit_transform(t.values)\n",
    "cluster = AgglomerativeClustering(n_clusters=8, affinity='euclidean', linkage='complete')  \n",
    "t['clust'] = cluster.fit_predict(X)\n",
    "\n",
    "y_test=tc\n",
    "y_pred = clf1.predict(t)\n",
    "print('Accuracy %s' % accuracy_score(y_test, y_pred))\n",
    "print('F1-score %s' % f1_score(y_test, y_pred, average=None))\n",
    "print(classification_report(y_test, y_pred))\n",
    "confusion_matrix(y_test, y_pred)\n",
    "valuate(y_pred, y_test)\n",
    "\n",
    "\n",
    "#with jaccard, cosine e cosine_mov: 124"
   ]
  },
  {
   "cell_type": "code",
   "execution_count": null,
   "metadata": {},
   "outputs": [],
   "source": [
    "t = pd.read_csv(r'''F:\\\\Study\\\\2nd\\\\BigDataAn\\\\crash_prediction_dataset\\\\rome_test_4.csv''')\n",
    "t=solvingMissing(t)\n",
    "tc = t['crash']\n",
    "rem = ['crash'] # 'crash'\n",
    "for i in t: \n",
    "    if i not in df0:\n",
    "        rem.append(i)\n",
    "t=t.drop(rem, axis=1)\n",
    "\n",
    "scaler = StandardScaler()\n",
    "scaler.fit(t.values)\n",
    "X = scaler.fit_transform(t.values)\n",
    "cluster = AgglomerativeClustering(n_clusters=8, affinity='euclidean', linkage='complete')  \n",
    "t['clust'] = cluster.fit_predict(X)\n",
    "\n",
    "y_test=tc\n",
    "y_pred = clf1.predict(t)\n",
    "print('Accuracy %s' % accuracy_score(y_test, y_pred))\n",
    "print('F1-score %s' % f1_score(y_test, y_pred, average=None))\n",
    "print(classification_report(y_test, y_pred))\n",
    "confusion_matrix(y_test, y_pred)\n",
    "valuate(y_pred, y_test)\n",
    "\n",
    "#with jaccard, cosine e cosine_mov: 69"
   ]
  },
  {
   "cell_type": "code",
   "execution_count": null,
   "metadata": {},
   "outputs": [],
   "source": []
  },
  {
   "cell_type": "code",
   "execution_count": null,
   "metadata": {},
   "outputs": [],
   "source": [
    "zip(DF.columns[clf1.tree_.feature], clf1.tree_.threshold, clf1.tree_.children_left, clf1.tree_.children_right)"
   ]
  },
  {
   "cell_type": "code",
   "execution_count": null,
   "metadata": {},
   "outputs": [],
   "source": [
    "from inspect import getmembers\n",
    "print( getmembers( clf1.tree_ ) )"
   ]
  },
  {
   "cell_type": "code",
   "execution_count": null,
   "metadata": {},
   "outputs": [],
   "source": []
  },
  {
   "cell_type": "code",
   "execution_count": null,
   "metadata": {},
   "outputs": [],
   "source": []
  }
 ],
 "metadata": {
  "kernelspec": {
   "display_name": "Python 3",
   "language": "python",
   "name": "python3"
  },
  "language_info": {
   "codemirror_mode": {
    "name": "ipython",
    "version": 3
   },
   "file_extension": ".py",
   "mimetype": "text/x-python",
   "name": "python",
   "nbconvert_exporter": "python",
   "pygments_lexer": "ipython3",
   "version": "3.7.3"
  }
 },
 "nbformat": 4,
 "nbformat_minor": 2
}
